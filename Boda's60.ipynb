{
 "cells": [
  {
   "cell_type": "markdown",
   "id": "759d04ba",
   "metadata": {
    "id": "759d04ba"
   },
   "source": [
    "**1-Write a Python program to calculate the length of a string using 2 ways"
   ]
  },
  {
   "cell_type": "code",
   "execution_count": 10,
   "id": "e434c950",
   "metadata": {
    "id": "e434c950"
   },
   "outputs": [
    {
     "name": "stdout",
     "output_type": "stream",
     "text": [
      "plz enter a string : boda\n",
      "4\n"
     ]
    }
   ],
   "source": [
    "string = input(\"plz enter a string : \")\n",
    "count = 0\n",
    "for i in string:\n",
    "        count += 1\n",
    "print(count)"
   ]
  },
  {
   "cell_type": "code",
   "execution_count": 11,
   "id": "7a2dfa32",
   "metadata": {
    "id": "7a2dfa32"
   },
   "outputs": [
    {
     "name": "stdout",
     "output_type": "stream",
     "text": [
      "plz enter a string : boda\n",
      "4\n"
     ]
    }
   ],
   "source": [
    "string = input(\"plz enter a string : \")\n",
    "x = len(string)\n",
    "print (x)"
   ]
  },
  {
   "cell_type": "markdown",
   "id": "d7cc9da7",
   "metadata": {
    "id": "d7cc9da7"
   },
   "source": [
    "**2-Write a Python program to get a string made of the first 2 and last 2 characters of a given string. If the string length is less than 2, return the empty string instead (\"##Sample String : 'w3resource'\n",
    "Expected Result : 'w3ce'\n",
    "##Sample String : 'w3'\n",
    "Expected Result : 'w3w3'\n",
    "##Sample String : ' w'\n",
    "Expected Result : Empty String)"
   ]
  },
  {
   "cell_type": "code",
   "execution_count": 21,
   "id": "dafa9dd8",
   "metadata": {
    "id": "dafa9dd8"
   },
   "outputs": [
    {
     "name": "stdout",
     "output_type": "stream",
     "text": [
      "plz enter a string : abdelrahman\n",
      "aban\n"
     ]
    }
   ],
   "source": [
    "char  = input(\"plz enter a string : \")\n",
    "if len(char) < 2:\n",
    "        print ( )\n",
    "else:\n",
    "        print (char[:2] + char[-2:])"
   ]
  },
  {
   "cell_type": "markdown",
   "id": "1534f956",
   "metadata": {
    "id": "1534f956"
   },
   "source": [
    "**3-Write a Python program to add 'ing' at the end of a given string (length should be at least 3). If the given string already ends with 'ing', add 'ly' instead. If the string length of the given string is less than 3, leave it unchanged. (Sample String : 'abc'\n",
    "Expected Result : 'abcing')"
   ]
  },
  {
   "cell_type": "code",
   "execution_count": 21,
   "id": "7ff8cec4",
   "metadata": {
    "id": "7ff8cec4"
   },
   "outputs": [
    {
     "name": "stdout",
     "output_type": "stream",
     "text": [
      "Enter a string: string\n",
      "stringly\n"
     ]
    }
   ],
   "source": [
    "string = input(\"Enter a string: \")\n",
    "\n",
    "if len(string) < 3:\n",
    "    print(string)\n",
    "elif string[-3:] == 'ing':\n",
    "    print(string + 'ly')\n",
    "else:\n",
    "    print(string + 'ing')\n"
   ]
  },
  {
   "cell_type": "markdown",
   "id": "1c0a6627",
   "metadata": {
    "id": "1c0a6627"
   },
   "source": [
    "**4-Write a Python function that takes a list of words and return the longest word and the length of the longest one\n",
    "(Longest word: Exercises\n",
    "Length of the longest word: 9)"
   ]
  },
  {
   "cell_type": "code",
   "execution_count": 20,
   "id": "397341d9",
   "metadata": {
    "id": "397341d9"
   },
   "outputs": [
    {
     "name": "stdout",
     "output_type": "stream",
     "text": [
      "strawberry 10\n"
     ]
    }
   ],
   "source": [
    "word_list = [\"apple\", \"banana\", \"orange\", \"kiwi\", \"strawberry\", \"blueberry\", \"grape\"]\n",
    "longest_word = max(word_list)\n",
    "length_of_longest_word = len(longest_word)\n",
    "\n",
    "print(longest_word, length_of_longest_word)"
   ]
  },
  {
   "cell_type": "markdown",
   "id": "53a03a6a",
   "metadata": {
    "id": "53a03a6a"
   },
   "source": [
    "**5-Write a Python program to change a given string to a newly string where the first and last chars have been exchanged using 2 ways (Sample String:abca  Expected Result:ebce)"
   ]
  },
  {
   "cell_type": "code",
   "execution_count": 90,
   "id": "fd327d2a",
   "metadata": {
    "id": "fd327d2a"
   },
   "outputs": [
    {
     "name": "stdout",
     "output_type": "stream",
     "text": [
      "abca\n"
     ]
    }
   ],
   "source": [
    "string = \"abca\"\n",
    "if len(string) >= 2:\n",
    "    new_string = string[-1] + string[1:-1] + string[-1]\n",
    "    print(new_string)"
   ]
  },
  {
   "cell_type": "markdown",
   "id": "25f89808",
   "metadata": {
    "id": "25f89808"
   },
   "source": [
    "**6-Write a Python program to remove characters that have odd index values in a given string (Sample String:abca Expected Result:ac)"
   ]
  },
  {
   "cell_type": "code",
   "execution_count": 57,
   "id": "05959bd7",
   "metadata": {
    "id": "05959bd7"
   },
   "outputs": [
    {
     "name": "stdout",
     "output_type": "stream",
     "text": [
      "ac\n"
     ]
    }
   ],
   "source": [
    "string = \"abcd\"\n",
    "result = \"\"\n",
    "\n",
    "for i in range(len(string)):\n",
    "    if i % 2 == 0:\n",
    "        result += string[i]\n",
    "print(result)\n"
   ]
  },
  {
   "cell_type": "code",
   "execution_count": 92,
   "id": "36aa0816",
   "metadata": {},
   "outputs": [
    {
     "data": {
      "text/plain": [
       "'bd'"
      ]
     },
     "execution_count": 92,
     "metadata": {},
     "output_type": "execute_result"
    }
   ],
   "source": [
    "string =\"boda\"\n",
    "string[::2]"
   ]
  },
  {
   "cell_type": "code",
   "execution_count": 26,
   "id": "7621c784",
   "metadata": {},
   "outputs": [
    {
     "name": "stdout",
     "output_type": "stream",
     "text": [
      "ac\n"
     ]
    }
   ],
   "source": [
    "string = \"abca\"\n",
    "result = string[::2]\n",
    "\n",
    "print(result)"
   ]
  },
  {
   "cell_type": "markdown",
   "id": "eb16e898",
   "metadata": {
    "id": "eb16e898"
   },
   "source": [
    "**7-Write a Python program to count the occurrences of each word in a given sentence (Sample String:amr and ahmed are frindes but amr is the tallest Expected Result:2)"
   ]
  },
  {
   "cell_type": "code",
   "execution_count": 93,
   "id": "01ce6cf5",
   "metadata": {
    "id": "01ce6cf5"
   },
   "outputs": [
    {
     "name": "stdout",
     "output_type": "stream",
     "text": [
      "amr: 2\n",
      "and: 1\n",
      "ahmed: 1\n",
      "are: 1\n",
      "friends: 1\n",
      "but: 1\n",
      "is: 1\n",
      "the: 1\n",
      "tallest: 1\n"
     ]
    }
   ],
   "source": [
    "sentence = \"amr and ahmed are friends but amr is the tallest\"\n",
    "\n",
    "\n",
    "words = sentence_lower.split()\n",
    "\n",
    "word_count = {}\n",
    "\n",
    "for word in words:\n",
    "    if word in word_count:\n",
    "        word_count[word] += 1\n",
    "    else:\n",
    "        word_count[word] = 1\n",
    "\n",
    "for word, count in word_count.items():\n",
    "    print(f\"{word}: {count}\")"
   ]
  },
  {
   "cell_type": "code",
   "execution_count": 94,
   "id": "35954f03",
   "metadata": {},
   "outputs": [
    {
     "name": "stdout",
     "output_type": "stream",
     "text": [
      "ahmed 1\n",
      "but 1\n",
      "and 1\n",
      "the 1\n",
      "are 1\n",
      "is 1\n",
      "friends 1\n",
      "tallest 1\n",
      "amr 2\n"
     ]
    }
   ],
   "source": [
    "sentence = \"amr and ahmed are friends but amr is the tallest\"\n",
    "words =sentence.split()\n",
    "words = set(words)\n",
    "\n",
    "for word in words:\n",
    "  print(word ,sentence.count(word))"
   ]
  },
  {
   "cell_type": "markdown",
   "id": "4e8125f1",
   "metadata": {
    "id": "4e8125f1"
   },
   "source": [
    "**8-Write a Python script that takes input from the user and displays that input back in upper and lower cases"
   ]
  },
  {
   "cell_type": "code",
   "execution_count": 31,
   "id": "66c8f778",
   "metadata": {
    "id": "66c8f778"
   },
   "outputs": [
    {
     "name": "stdout",
     "output_type": "stream",
     "text": [
      "Enter a string: Boda\n",
      "Upper case: BODA\n",
      "Lower case: boda\n"
     ]
    }
   ],
   "source": [
    "x = input(\"Enter a string: \")\n",
    "\n",
    "print(\"Upper case: \"+ x.upper())\n",
    "\n",
    "print(\"Lower case: \"+ x.lower())"
   ]
  },
  {
   "cell_type": "markdown",
   "id": "fcd68aa1",
   "metadata": {
    "id": "fcd68aa1"
   },
   "source": [
    "**9-Write a Python function to reverse a string if its length is a multiple of 4"
   ]
  },
  {
   "cell_type": "code",
   "execution_count": 42,
   "id": "0671a931",
   "metadata": {
    "id": "0671a931"
   },
   "outputs": [
    {
     "name": "stdout",
     "output_type": "stream",
     "text": [
      "Enter a string: boda\n",
      "adob\n"
     ]
    }
   ],
   "source": [
    "string = input(\"Enter a string: \")\n",
    "if len(string) % 4 == 0:\n",
    "        rev_string = string[::-1]\n",
    "        print (rev_string)\n",
    "else:\n",
    "        print (string)"
   ]
  },
  {
   "cell_type": "markdown",
   "id": "b577c68d",
   "metadata": {
    "id": "b577c68d"
   },
   "source": [
    "**10- Write a Python program to remove a newline in Python"
   ]
  },
  {
   "cell_type": "code",
   "execution_count": 3,
   "id": "e0c6525a",
   "metadata": {
    "id": "e0c6525a"
   },
   "outputs": [
    {
     "name": "stdout",
     "output_type": "stream",
     "text": [
      "Enter a string: fsdnjd dfmslmg\n",
      "fsdnjd dfmslmg\n"
     ]
    }
   ],
   "source": [
    "char = input(\"Enter a string: \")\n",
    "\n",
    "new_char = char.replace('\\n', '')\n",
    "\n",
    "print(new_char)"
   ]
  },
  {
   "cell_type": "markdown",
   "id": "80db5ae0",
   "metadata": {
    "id": "80db5ae0"
   },
   "source": [
    "**11-Write a Python program to check whether a string starts with specified characters"
   ]
  },
  {
   "cell_type": "code",
   "execution_count": 6,
   "id": "0cc4e03e",
   "metadata": {
    "id": "0cc4e03e"
   },
   "outputs": [
    {
     "name": "stdout",
     "output_type": "stream",
     "text": [
      "Enter a string: hjhj\n",
      "The string does not start with specified characters\n"
     ]
    }
   ],
   "source": [
    "string = input(\"Enter a string: \")\n",
    "\n",
    "\n",
    "specified_characters = \"a\"\n",
    "\n",
    "if string.startswith(specified_characters):\n",
    "    print(f\"The string starts with specified characters\")\n",
    "else:\n",
    "    print(f\"The string does not start with specified characters\")"
   ]
  },
  {
   "cell_type": "markdown",
   "id": "593a68db",
   "metadata": {
    "id": "593a68db"
   },
   "source": [
    "**12- Write a Python program to add prefix text to all of the lines in a string"
   ]
  },
  {
   "cell_type": "code",
   "execution_count": 7,
   "id": "d2e46ada",
   "metadata": {
    "id": "d2e46ada"
   },
   "outputs": [
    {
     "name": "stdout",
     "output_type": "stream",
     "text": [
      "Enter a string: boda\n",
      "Pre boda\n"
     ]
    }
   ],
   "source": [
    "string = input(\"Enter a string: \")\n",
    "\n",
    "prefix = \"Pre \"\n",
    "new_lines = prefix + string\n",
    "print(new_lines)"
   ]
  },
  {
   "cell_type": "markdown",
   "id": "86fa1543",
   "metadata": {
    "id": "86fa1543"
   },
   "source": [
    "**13-Write a Python program to print the following numbers up to 2 decimal places"
   ]
  },
  {
   "cell_type": "code",
   "execution_count": 63,
   "id": "cd4a9d89",
   "metadata": {
    "id": "cd4a9d89"
   },
   "outputs": [
    {
     "name": "stdout",
     "output_type": "stream",
     "text": [
      "Enter a number: 1.55225\n",
      "1.55\n"
     ]
    }
   ],
   "source": [
    "num = float(input(\"Enter a number: \"))\n",
    "\n",
    "print(f\"{num:.2f}\")"
   ]
  },
  {
   "cell_type": "markdown",
   "id": "452c0ab0",
   "metadata": {
    "id": "452c0ab0"
   },
   "source": [
    "**14-Write a Python program to print the following numbers up to 2 decimal places with a sign"
   ]
  },
  {
   "cell_type": "code",
   "execution_count": 65,
   "id": "73e82479",
   "metadata": {
    "id": "73e82479"
   },
   "outputs": [
    {
     "name": "stdout",
     "output_type": "stream",
     "text": [
      "Enter a number: -1254.4146\n",
      "-1254.41\n"
     ]
    }
   ],
   "source": [
    "num = float(input(\"Enter a number: \"))\n",
    "\n",
    "\n",
    "print(f\"{num:+.2f}\")"
   ]
  },
  {
   "cell_type": "markdown",
   "id": "32b1811a",
   "metadata": {
    "id": "32b1811a"
   },
   "source": [
    "**15-Write a Python program to display a number with a comma separator"
   ]
  },
  {
   "cell_type": "code",
   "execution_count": 74,
   "id": "f30fc0b6",
   "metadata": {
    "id": "f30fc0b6"
   },
   "outputs": [
    {
     "name": "stdout",
     "output_type": "stream",
     "text": [
      "1,234,567,891.89\n"
     ]
    }
   ],
   "source": [
    "num = 1234567891.89471141\n",
    "num = float(num)\n",
    "\n",
    "number = f\"{num:,.2f}\"\n",
    "\n",
    "print(number)"
   ]
  },
  {
   "cell_type": "markdown",
   "id": "0477f487",
   "metadata": {
    "id": "0477f487"
   },
   "source": [
    "**16-Write a Python program to reverse a string using 2 ways"
   ]
  },
  {
   "cell_type": "code",
   "execution_count": 75,
   "id": "aa8beec8",
   "metadata": {
    "id": "aa8beec8"
   },
   "outputs": [
    {
     "name": "stdout",
     "output_type": "stream",
     "text": [
      "enter a string: boda\n",
      "adob\n"
     ]
    }
   ],
   "source": [
    "string = input(\"enter a string: \")\n",
    "\n",
    "reversed_string = string[::-1]\n",
    "print(reversed_string) "
   ]
  },
  {
   "cell_type": "markdown",
   "id": "5afc3166",
   "metadata": {
    "id": "5afc3166"
   },
   "source": [
    " **17-Write a Python program to count repeated characters in a string (hint:use dictionary)"
   ]
  },
  {
   "cell_type": "code",
   "execution_count": 8,
   "id": "515a469c",
   "metadata": {
    "id": "515a469c"
   },
   "outputs": [
    {
     "name": "stdout",
     "output_type": "stream",
     "text": [
      "{'m': 2, 'y': 1, ' ': 3, 'n': 1, 'a': 2, 'e': 1, 'i': 1, 's': 1, 'b': 1, 'o': 1, 'd': 1}\n"
     ]
    }
   ],
   "source": [
    "string = \"my name is boda\"\n",
    "d= dict()\n",
    "for i in string:\n",
    "    d[i] = 0\n",
    "for i  in d:\n",
    "     d[i] = string.count(i)\n",
    "print(d)\n",
    "\n"
   ]
  },
  {
   "cell_type": "markdown",
   "id": "ae14e4e5",
   "metadata": {
    "id": "ae14e4e5"
   },
   "source": [
    "**18-Write a Python program to find the first non-repeating character in a given string"
   ]
  },
  {
   "cell_type": "code",
   "execution_count": null,
   "id": "d73778e5",
   "metadata": {
    "id": "d73778e5"
   },
   "outputs": [],
   "source": [
    "char_count = {}\n",
    "\n",
    "    \n",
    "for char in input_string:\n",
    "     if char in char_count:\n",
    "            char_count[char] += 1\n",
    "        else:\n",
    "            char_count[char] = 1\n",
    "\n",
    "   \n",
    "    for char in input_string:\n",
    "        if char_count[char] == 1:\n",
    "            return char"
   ]
  },
  {
   "cell_type": "code",
   "execution_count": 10,
   "id": "a765c85a",
   "metadata": {},
   "outputs": [
    {
     "name": "stdout",
     "output_type": "stream",
     "text": [
      "w\n"
     ]
    }
   ],
   "source": [
    "string = \"instant software solution\"\n",
    "for i in string:\n",
    "  if string.count(i)==1:\n",
    "     print(i)\n",
    "     break"
   ]
  },
  {
   "cell_type": "markdown",
   "id": "3adf5669",
   "metadata": {
    "id": "3adf5669"
   },
   "source": [
    "**19-Write a Python program to remove spaces from a given string"
   ]
  },
  {
   "cell_type": "code",
   "execution_count": 76,
   "id": "b4f22602",
   "metadata": {
    "id": "b4f22602"
   },
   "outputs": [
    {
     "name": "stdout",
     "output_type": "stream",
     "text": [
      "Enter a string with spaces: nbhan jdnakj jdajd\n",
      "nbhanjdnakjjdajd\n"
     ]
    }
   ],
   "source": [
    "char = input(\"Enter a string with spaces: \")\n",
    "new_char = char.replace(\" \", \"\")\n",
    "\n",
    "print(new_char)"
   ]
  },
  {
   "cell_type": "markdown",
   "id": "734de60c",
   "metadata": {
    "id": "734de60c"
   },
   "source": [
    "**20-Write a Python program to count the number of non-empty substrings of a given string"
   ]
  },
  {
   "cell_type": "code",
   "execution_count": 77,
   "id": "ef3f2274",
   "metadata": {
    "id": "ef3f2274"
   },
   "outputs": [
    {
     "name": "stdout",
     "output_type": "stream",
     "text": [
      "Enter a string: boda\n",
      "10\n"
     ]
    }
   ],
   "source": [
    "char = input(\"Enter a string: \")\n",
    "length = len(char)\n",
    "substr_count = length * (length + 1) // 2\n",
    "print (substr_count)\n"
   ]
  },
  {
   "cell_type": "markdown",
   "id": "509998e2",
   "metadata": {
    "id": "509998e2"
   },
   "source": [
    "**21-write a Python program to swap first and last element of any list."
   ]
  },
  {
   "cell_type": "code",
   "execution_count": 58,
   "id": "68692d7f",
   "metadata": {
    "id": "68692d7f"
   },
   "outputs": [
    {
     "name": "stdout",
     "output_type": "stream",
     "text": [
      "['e', 'b', 'c', 'd', 'a']\n"
     ]
    }
   ],
   "source": [
    "lst = ['a', 'b', 'c', 'd', 'e']\n",
    "\n",
    "if len(lst) >= 2:\n",
    "    lst[0], lst[-1] = lst[-1], lst[0]\n",
    "\n",
    "print(lst)"
   ]
  },
  {
   "cell_type": "code",
   "execution_count": 21,
   "id": "91f1d8b4",
   "metadata": {},
   "outputs": [
    {
     "data": {
      "text/plain": [
       "[5, 2, 3, 4, 1]"
      ]
     },
     "execution_count": 21,
     "metadata": {},
     "output_type": "execute_result"
    }
   ],
   "source": [
    "l = [1,2,3,4,5]\n",
    "l[0] , l[-1] = l[-1] , l[0]\n",
    "l"
   ]
  },
  {
   "cell_type": "markdown",
   "id": "959e0837",
   "metadata": {
    "id": "959e0837"
   },
   "source": [
    "**22-Given a list in Python and provided the positions of the elements, write a program to swap the two elements in the list. (Input : List = [23, 65, 19, 90], pos1 = 1, pos2 = 3\n",
    "Output : [19, 65, 23, 90])"
   ]
  },
  {
   "cell_type": "code",
   "execution_count": 20,
   "id": "225d8c6d",
   "metadata": {
    "id": "225d8c6d"
   },
   "outputs": [],
   "source": [
    "l = [23, 65, 19, 90]\n",
    "pos1 =1\n",
    "pos2 =3\n",
    "l[pos1] , l[pos2] = l[pos2] , l[pos1]"
   ]
  },
  {
   "cell_type": "markdown",
   "id": "66fc6682",
   "metadata": {
    "id": "66fc6682"
   },
   "source": [
    "**23- search for the all ways to know the length of the list"
   ]
  },
  {
   "cell_type": "code",
   "execution_count": 13,
   "id": "6c022001",
   "metadata": {},
   "outputs": [
    {
     "name": "stdout",
     "output_type": "stream",
     "text": [
      "5\n"
     ]
    }
   ],
   "source": [
    "my_list = [1, 2, 3, 4, 5]\n",
    "length = len(my_list)\n",
    "print(length)\n"
   ]
  },
  {
   "cell_type": "code",
   "execution_count": 80,
   "id": "cf99574c",
   "metadata": {},
   "outputs": [
    {
     "name": "stdout",
     "output_type": "stream",
     "text": [
      "5\n"
     ]
    }
   ],
   "source": [
    "my_list = [1, 2, 3, 4, 5]\n",
    "count = 0\n",
    "for i in my_list:\n",
    "    count += 1\n",
    "print(count)\n"
   ]
  },
  {
   "cell_type": "code",
   "execution_count": null,
   "id": "63ff8b43",
   "metadata": {
    "id": "63ff8b43"
   },
   "outputs": [],
   "source": [
    "**24-write a Python code to find the Maximum number of list of numbers."
   ]
  },
  {
   "cell_type": "code",
   "execution_count": 4,
   "id": "15f342de",
   "metadata": {
    "id": "15f342de"
   },
   "outputs": [
    {
     "data": {
      "text/plain": [
       "87"
      ]
     },
     "execution_count": 4,
     "metadata": {},
     "output_type": "execute_result"
    }
   ],
   "source": [
    "list = [11, 55, 87, 20, 1, 5]\n",
    "\n",
    "max_number = max(list)\n",
    "max_number"
   ]
  },
  {
   "cell_type": "code",
   "execution_count": null,
   "id": "1a89b9d3",
   "metadata": {
    "id": "1a89b9d3"
   },
   "outputs": [],
   "source": [
    "**25-write a Python code to find the Minimum number of list of numbers."
   ]
  },
  {
   "cell_type": "code",
   "execution_count": 5,
   "id": "21f8cbd6",
   "metadata": {
    "id": "21f8cbd6"
   },
   "outputs": [
    {
     "data": {
      "text/plain": [
       "1"
      ]
     },
     "execution_count": 5,
     "metadata": {},
     "output_type": "execute_result"
    }
   ],
   "source": [
    "list = [11, 55, 87, 20, 1, 5]\n",
    "\n",
    "min_number = min(list)\n",
    "min_number"
   ]
  },
  {
   "cell_type": "markdown",
   "id": "96822d96",
   "metadata": {
    "id": "96822d96"
   },
   "source": [
    "**26-search for if an elem is existing in list"
   ]
  },
  {
   "cell_type": "code",
   "execution_count": 5,
   "id": "51ca5c9a",
   "metadata": {
    "id": "51ca5c9a",
    "scrolled": true
   },
   "outputs": [
    {
     "name": "stdout",
     "output_type": "stream",
     "text": [
      "enter a number 4\n",
      "4 is present in the list.\n"
     ]
    }
   ],
   "source": [
    "my_list = [1, 2, 3, 4, 5]\n",
    "\n",
    "element =int(input(\"enter a number \"))\n",
    "\n",
    "if element in my_list:\n",
    "    print(str(element) +\" is present in the list.\")\n",
    "else:\n",
    "    print(str(element) +\" is not present in the list.\")"
   ]
  },
  {
   "cell_type": "markdown",
   "id": "d9557da7",
   "metadata": {
    "id": "d9557da7"
   },
   "source": [
    "**27- clear python list using different ways"
   ]
  },
  {
   "cell_type": "code",
   "execution_count": 2,
   "id": "b69858a3",
   "metadata": {
    "id": "b69858a3"
   },
   "outputs": [
    {
     "name": "stdout",
     "output_type": "stream",
     "text": [
      "[]\n"
     ]
    }
   ],
   "source": [
    "my_list = [1, 2, 3, 4, 5]\n",
    "my_list.clear()\n",
    "print(my_list)\n",
    "\n"
   ]
  },
  {
   "cell_type": "code",
   "execution_count": 1,
   "id": "15c04ba1",
   "metadata": {},
   "outputs": [
    {
     "data": {
      "text/plain": [
       "[]"
      ]
     },
     "execution_count": 1,
     "metadata": {},
     "output_type": "execute_result"
    }
   ],
   "source": [
    "my_list = [1, 2, 3, 4, 5]\n",
    "my_list = []\n",
    "my_list"
   ]
  },
  {
   "cell_type": "code",
   "execution_count": 2,
   "id": "11751fde",
   "metadata": {},
   "outputs": [
    {
     "data": {
      "text/plain": [
       "[]"
      ]
     },
     "execution_count": 2,
     "metadata": {},
     "output_type": "execute_result"
    }
   ],
   "source": [
    "my_list = [1, 2, 3, 4, 5]\n",
    "del my_list[:]\n",
    "my_list"
   ]
  },
  {
   "cell_type": "markdown",
   "id": "52160e88",
   "metadata": {
    "id": "52160e88"
   },
   "source": [
    "**28-remove duplicated elements from a list"
   ]
  },
  {
   "cell_type": "code",
   "execution_count": 84,
   "id": "5e362228",
   "metadata": {
    "id": "5e362228"
   },
   "outputs": [
    {
     "name": "stdout",
     "output_type": "stream",
     "text": [
      "{1, 2, 3, 4, 5, 6, 9}\n"
     ]
    }
   ],
   "source": [
    "list = [1, 4, 2, 3, 4, 5, 5, 6, 5, 9]\n",
    "\n",
    "new_list = set(list)\n",
    "\n",
    "print(new_list)\n"
   ]
  },
  {
   "cell_type": "markdown",
   "id": "282337f7",
   "metadata": {
    "id": "282337f7"
   },
   "source": [
    "**29-Given list values and keys list, convert these values to key value pairs in form of list of dictionaries. (Input : test_list = [“Gfg”, 3, “is”, 8], key_list = [“name”, “id”]\n",
    "Output : [{‘name’: ‘Gfg’, ‘id’: 3}, {‘name’: ‘is’, ‘id’: 8}])"
   ]
  },
  {
   "cell_type": "code",
   "execution_count": null,
   "id": "4d4e2d28",
   "metadata": {
    "id": "4d4e2d28"
   },
   "outputs": [],
   "source": [
    "###################################################################################################"
   ]
  },
  {
   "cell_type": "markdown",
   "id": "c26b6e9f",
   "metadata": {
    "id": "c26b6e9f"
   },
   "source": [
    "**30-write a python program to count unique values inside a list using different ways"
   ]
  },
  {
   "cell_type": "code",
   "execution_count": 73,
   "id": "72132667",
   "metadata": {
    "id": "72132667"
   },
   "outputs": [
    {
     "name": "stdout",
     "output_type": "stream",
     "text": [
      "4\n"
     ]
    }
   ],
   "source": [
    "my_list = [1, 2, 3, 4, 4, 5, 6, 7, 7, 8, 9, 1, 9]\n",
    "unique_set = set(my_list)\n",
    "unique_count = len(unique_set)\n",
    "print( len(my_list)- unique_count  )"
   ]
  },
  {
   "cell_type": "markdown",
   "id": "fed6677c",
   "metadata": {
    "id": "fed6677c"
   },
   "source": [
    "**31-write a python program Extract all elements with Frequency greater than K (Input : test_list = [4, 6, 4, 3, 3, 4, 3, 4, 3, 8], K = 3\n",
    "Output : [4, 3] )"
   ]
  },
  {
   "cell_type": "code",
   "execution_count": 81,
   "id": "d81f3f9d",
   "metadata": {
    "id": "d81f3f9d"
   },
   "outputs": [
    {
     "name": "stdout",
     "output_type": "stream",
     "text": [
      "[4, 3]\n"
     ]
    }
   ],
   "source": [
    "test_list = [4, 6, 4, 3, 3, 4, 3, 4, 3, 8]\n",
    "K = 3\n",
    "count = {}\n",
    "\n",
    "for i in test_list:\n",
    "    if i in count:\n",
    "        count[i] += 1\n",
    "    else:\n",
    "        count[i] = 1\n",
    "\n",
    "result_list = [element for element, frequency in count.items() if frequency > K]\n",
    "\n",
    "print( result_list)"
   ]
  },
  {
   "cell_type": "markdown",
   "id": "caca5224",
   "metadata": {
    "id": "caca5224"
   },
   "source": [
    "**32-write a python program to find the Strongest Neighbour (Input: 1 2 2 3 4 5\n",
    "Output: 2 2 3 4 5)"
   ]
  },
  {
   "cell_type": "code",
   "execution_count": 104,
   "id": "39fbd9b2",
   "metadata": {
    "id": "39fbd9b2"
   },
   "outputs": [],
   "source": [
    "def find_strongest_neighbour(arr):\n",
    "    n = len(arr)\n",
    "\n",
    "    if n <= 1:\n",
    "        # If the list has 0 or 1 element, there are no neighbors\n",
    "        return arr\n",
    "\n",
    "    result = []\n",
    "\n",
    "    for i in range(n):\n",
    "        # Initialize the strongest neighbor as the current element\n",
    "        strongest = arr[i]\n",
    "\n",
    "        # Check the left neighbor\n",
    "        if i > 0 and arr[i - 1] > strongest:\n",
    "            strongest = arr[i - 1]\n",
    "\n",
    "        # Check the right neighbor\n",
    "        if i < n - 1 and arr[i + 1] > strongest:\n",
    "            strongest = arr[i + 1]\n",
    "\n",
    "        # Append the strongest neighbor to the result list\n",
    "        result.append(strongest)\n",
    "\n",
    "    return result"
   ]
  },
  {
   "cell_type": "markdown",
   "id": "a9fa8baf",
   "metadata": {
    "id": "a9fa8baf"
   },
   "source": [
    "**33-write a Python Program to print all Possible Combinations from the three Digits (Input: [1, 2, 3]\n",
    "Output:\n",
    "1 2 3 ##\n",
    "1 3 2 ##\n",
    "2 1 3 ##\n",
    "2 3 1 ##\n",
    "3 1 2 ##\n",
    "3 2 1)"
   ]
  },
  {
   "cell_type": "code",
   "execution_count": 19,
   "id": "8c520a76",
   "metadata": {
    "id": "8c520a76"
   },
   "outputs": [
    {
     "name": "stdout",
     "output_type": "stream",
     "text": [
      "Enter space-separated digits: 1 2 3\n",
      "## 1 2 3\n",
      "## 1 3 2\n",
      "## 2 1 3\n",
      "## 2 3 1\n",
      "## 3 1 2\n",
      "## 3 2 1\n"
     ]
    }
   ],
   "source": [
    "from itertools import permutations\n",
    "\n",
    "def print_all_combinations(digits):\n",
    "   \n",
    "    all_permutations = permutations(digits)\n",
    "\n",
    "   \n",
    "    for permutation in all_permutations:\n",
    "        print(\"##\", \" \".join(map(str, permutation)))\n",
    "\n",
    "input_digits = list(map(int, input(\"Enter space-separated digits: \").split()))\n",
    "print_all_combinations(input_digits)\n",
    "\n"
   ]
  },
  {
   "cell_type": "markdown",
   "id": "5288bb89",
   "metadata": {
    "id": "5288bb89"
   },
   "source": [
    "**34-write a Python program to find all the Combinations in the list with the given condition (Input: test_list = [1,2,3]\n",
    "Output:\n",
    " [1], [1, 2], [1, 2, 3], [1, 3]\n",
    " [2], [2, 3], [3])"
   ]
  },
  {
   "cell_type": "code",
   "execution_count": 23,
   "id": "59b89646",
   "metadata": {
    "id": "59b89646"
   },
   "outputs": [
    {
     "name": "stdout",
     "output_type": "stream",
     "text": [
      "[1]\n",
      "[2]\n",
      "[3]\n",
      "[1, 2]\n",
      "[1, 3]\n",
      "[2, 3]\n",
      "[1, 2, 3]\n"
     ]
    }
   ],
   "source": [
    "from itertools import combinations\n",
    "\n",
    "def generate_combinations_with_condition(test_list):\n",
    "    result = []\n",
    "\n",
    "    \n",
    "    for r in range(1, len(test_list) + 1):\n",
    "        for combination in combinations(test_list, r):\n",
    "            result.append(list(combination))\n",
    "\n",
    "    return result\n",
    "\n",
    "test_list = [1, 2, 3]\n",
    "result = generate_combinations_with_condition(test_list)\n",
    "\n",
    "for sublist in result:\n",
    "    print(sublist)"
   ]
  },
  {
   "cell_type": "markdown",
   "id": "39973705",
   "metadata": {
    "id": "39973705"
   },
   "source": [
    "**35-write a Python program to get all unique combinations of two Lists (List_1 = [\"a\",\"b\"]\n",
    "List_2 = [1,2]\n",
    "Unique_combination = [[('a',1),('b',2)],[('a',2),('b',1)]] )"
   ]
  },
  {
   "cell_type": "code",
   "execution_count": 97,
   "id": "8c4ba22b",
   "metadata": {
    "id": "8c4ba22b"
   },
   "outputs": [
    {
     "name": "stdout",
     "output_type": "stream",
     "text": [
      "[('a', 1), ('a', 2), ('b', 1), ('b', 2)]\n"
     ]
    }
   ],
   "source": [
    "list_1 = [\"a\", \"b\"]\n",
    "list_2 = [1,2]\n",
    "unique_combinations = []\n",
    "for i in range(len(list_1)):\n",
    "    for j in range(len(list_2)):\n",
    "        unique_combinations.append((list_1[i], list_2[j]))\n",
    "\n",
    "print(unique_combinations)"
   ]
  },
  {
   "cell_type": "markdown",
   "id": "25199af5",
   "metadata": {
    "id": "25199af5"
   },
   "source": [
    "**36-Remove all the occurrences of an element from a list in Python (Input : 1 1 2 3 4 5 1 2 1\n",
    "\n",
    "**Output : 2 3 4 5 2)"
   ]
  },
  {
   "cell_type": "code",
   "execution_count": 24,
   "id": "6dc4c2ba",
   "metadata": {
    "id": "6dc4c2ba"
   },
   "outputs": [
    {
     "data": {
      "text/plain": [
       "{1, 2, 3, 4, 5, 7}"
      ]
     },
     "execution_count": 24,
     "metadata": {},
     "output_type": "execute_result"
    }
   ],
   "source": [
    "list = [1, 2, 3, 3, 4, 4 ,4, 4, 4, 4, 7, 7, 5, 3, 5, 4, 1,4]\n",
    "set(list)"
   ]
  },
  {
   "cell_type": "markdown",
   "id": "bf1a3c93",
   "metadata": {
    "id": "bf1a3c93"
   },
   "source": [
    "**37-write a python program to Replace index elements with elements in Other List (The original list 1 is : [‘Gfg’, ‘is’, ‘best’] The original list 2 is : [0, 1, 2, 1, 0, 0, 0, 2, 1, 1, 2, 0] The lists after index elements replacements is : [‘Gfg’, ‘is’, ‘best’, ‘is’, ‘Gfg’, ‘Gfg’, ‘Gfg’, ‘best’, ‘is’, ‘is’, ‘best’, ‘Gfg’])"
   ]
  },
  {
   "cell_type": "code",
   "execution_count": 95,
   "id": "fdd66a71",
   "metadata": {
    "id": "fdd66a71"
   },
   "outputs": [
    {
     "name": "stdout",
     "output_type": "stream",
     "text": [
      "List 1 :  ['gfg', 'is', 'best']\n",
      "List 2 :  [0, 1, 2, 1, 0, 0, 0, 2, 1, 1, 2, 0]\n",
      "['gfg', 'is', 'best', 'is', 'gfg', 'gfg', 'gfg', 'best', 'is', 'is', 'best', 'gfg']\n"
     ]
    }
   ],
   "source": [
    "a = [\"gfg\", \"is\" , \"best\"]\n",
    "b = [0, 1, 2, 1, 0, 0, 0, 2, 1, 1, 2, 0]\n",
    "print(\"List 1 : \" , a)\n",
    "print(\"List 2 : \" , b)\n",
    "x = [a[i] for i in b]\n",
    "print ( x)\n"
   ]
  },
  {
   "cell_type": "markdown",
   "id": "af0f56e8",
   "metadata": {
    "id": "af0f56e8"
   },
   "source": [
    "**38- write python program to Retain records with N occurrences of K(Input : test_list = [(4, 5, 5, 4), (5, 4, 3)], K = 5, N = 2\n",
    "Output : [(4, 5, 5, 4)]\n",
    "Input : test_list = [(4, 5, 5, 4), (5, 4, 3)], K = 5, N = 3\n",
    "Output : [] )"
   ]
  },
  {
   "cell_type": "code",
   "execution_count": 29,
   "id": "67b06671",
   "metadata": {
    "id": "67b06671"
   },
   "outputs": [
    {
     "name": "stdout",
     "output_type": "stream",
     "text": [
      "Output 1: [(4, 5, 5, 4)]\n",
      "Output 2: []\n"
     ]
    }
   ],
   "source": [
    "val = [(4, 5, 5, 4), (5, 4, 3)]\n",
    "K = 5\n",
    "N = 2\n",
    "x = [i for i in val if i.count(K) == N]\n",
    "print(x)"
   ]
  },
  {
   "cell_type": "markdown",
   "id": "de76f183",
   "metadata": {
    "id": "de76f183"
   },
   "source": [
    "**39-write a Python Program to Sort the list according to the column using lambda\n",
    "array = [[1, 3, 3], [2, 1, 2], [3, 2, 1]]\n",
    "Output :\n",
    "Sorted array specific to column 0, [[1, 3, 3], [2, 1, 2], [3, 2, 1]]\n",
    "Sorted array specific to column 1, [[2, 1, 2], [3, 2, 1], [1, 3, 3]]\n",
    "Sorted array specific to column 2, [[3, 2, 1], [2, 1, 2], [1, 3, 3]]"
   ]
  },
  {
   "cell_type": "code",
   "execution_count": 94,
   "id": "dc883308",
   "metadata": {
    "id": "dc883308"
   },
   "outputs": [
    {
     "name": "stdout",
     "output_type": "stream",
     "text": [
      "['id01', 'id02', 'id03', 'id10', 'id12', 'id13']\n"
     ]
    }
   ],
   "source": [
    "lst = ['id01', 'id10', 'id02', 'id12', 'id03', 'id13']\n",
    "lst_sorted = sorted(lst, key=lambda x: int(x[2:]))\n",
    "print(lst_sorted)"
   ]
  },
  {
   "cell_type": "code",
   "execution_count": null,
   "id": "d2e7b31f",
   "metadata": {
    "id": "d2e7b31f"
   },
   "outputs": [],
   "source": [
    "**40- write a program to Sort Python Dictionaries by Key or Value\n",
    "Input:\n",
    "{'ravi': 10, 'rajnish': 9, 'sanjeev': 15, 'yash': 2, 'suraj': 32}\n",
    "\n",
    "Output:\n",
    "{'rajnish': 9, 'ravi': 10, 'sanjeev': 15, 'suraj': 32, 'yash': 2}"
   ]
  },
  {
   "cell_type": "code",
   "execution_count": 93,
   "id": "a96db4a0",
   "metadata": {
    "id": "a96db4a0"
   },
   "outputs": [
    {
     "name": "stdout",
     "output_type": "stream",
     "text": [
      "{'rajnish': 9, 'ravi': 10, 'sanjeev': 15, 'suraj': 32, 'yash': 2}\n"
     ]
    }
   ],
   "source": [
    "input = {'ravi': 10, 'rajnish': 9, 'sanjeev': 15, 'yash': 2, 'suraj': 32}\n",
    "\n",
    "sorted_dict = dict(sorted(input.items()))\n",
    "\n",
    "\n",
    "print(sorted_dict)"
   ]
  },
  {
   "cell_type": "markdown",
   "id": "ec63c23a",
   "metadata": {
    "id": "ec63c23a"
   },
   "source": [
    "**41-write python program to Remove keys with Values Greater than K ( Including mixed values )\n",
    "nput : test_dict = {‘Gfg’ : 3, ‘is’ : 7, ‘best’ : 10, ‘for’ : 6, ‘geeks’ : ‘CS’},\n",
    "K = 7\n",
    "Output : {‘Gfg’ : 3, ‘for’ : 6, ‘geeks’ : ‘CS’}"
   ]
  },
  {
   "cell_type": "code",
   "execution_count": 100,
   "id": "e39c3a40",
   "metadata": {
    "id": "e39c3a40"
   },
   "outputs": [
    {
     "name": "stdout",
     "output_type": "stream",
     "text": [
      "The constructed dictionary : {'Gfg': 3, 'is': 7, 'for': 6, 'geeks': 'CS'}\n"
     ]
    }
   ],
   "source": [
    "test_dict = {'Gfg' : 3, 'is' : 7, 'best' : 10, 'for' : 6, 'geeks' : 'CS'}\n",
    "\n",
    "K = 7\n",
    "\n",
    "res = {}\n",
    "for key in test_dict:\n",
    "    if not (isinstance(test_dict[key], int) and test_dict[key] > K):\n",
    "        res[key] = test_dict[key]\n",
    "\n",
    "print(\"The constructed dictionary : \" + str(res))\n"
   ]
  },
  {
   "cell_type": "markdown",
   "id": "f143f0fe",
   "metadata": {
    "id": "f143f0fe"
   },
   "source": [
    "**42-Write a Python program to concatenate the following dictionaries to create a new one\n",
    "\n",
    "Sample Dictionary :\n",
    "dic1={1:10, 2:20}\n",
    "dic2={3:30, 4:40}\n",
    "dic3={5:50,6:60}\n",
    "Expected Result : {1: 10, 2: 20, 3: 30, 4: 40, 5: 50, 6: 60}"
   ]
  },
  {
   "cell_type": "code",
   "execution_count": 102,
   "id": "74ffdfea",
   "metadata": {
    "id": "74ffdfea"
   },
   "outputs": [
    {
     "name": "stdout",
     "output_type": "stream",
     "text": [
      "{1: 10, 2: 20, 3: 30, 4: 40, 5: 50, 6: 60}\n"
     ]
    }
   ],
   "source": [
    "d1={1:10, 2:20}\n",
    "d2={3:30, 4:40}\n",
    "d3={5:50,6:60}\n",
    "d4= {}\n",
    "for d in (d1,d2,d3): d4.update(d)\n",
    "print(d4)"
   ]
  },
  {
   "cell_type": "markdown",
   "id": "fb04c93c",
   "metadata": {
    "id": "fb04c93c"
   },
   "source": [
    "**43-Write a Python program to iterate over dictionaries using for loops"
   ]
  },
  {
   "cell_type": "code",
   "execution_count": 60,
   "id": "6aebc470",
   "metadata": {
    "id": "6aebc470"
   },
   "outputs": [
    {
     "name": "stdout",
     "output_type": "stream",
     "text": [
      "Keys:\n",
      "name\n",
      "age\n",
      "city\n",
      "\n",
      "Values:\n",
      "boda\n",
      "21\n",
      "cairo\n"
     ]
    }
   ],
   "source": [
    "my_dict = {'name': 'boda', 'age': 21, 'city': 'cairo'}\n",
    "\n",
    "\n",
    "print(\"Keys:\")\n",
    "for key in my_dict:\n",
    "    print(key)\n",
    "\n",
    "\n",
    "print(\"\\nValues:\")\n",
    "for value in my_dict.values():\n",
    "    print(value)\n",
    "\n"
   ]
  },
  {
   "cell_type": "markdown",
   "id": "5f491a9d",
   "metadata": {
    "id": "5f491a9d"
   },
   "source": [
    "**44- Write a Python script to merge two Python dictionaries"
   ]
  },
  {
   "cell_type": "code",
   "execution_count": 44,
   "id": "b8a14028",
   "metadata": {
    "id": "b8a14028"
   },
   "outputs": [
    {
     "name": "stdout",
     "output_type": "stream",
     "text": [
      "Merged Dictionary: {'a': 1, 'b': 3, 'c': 4}\n"
     ]
    }
   ],
   "source": [
    "def dictionaries(dict1, dict2):\n",
    "    merged_dict = dict1.copy()\n",
    "    merged_dict.update(dict2)\n",
    "    return merged_dict\n",
    "\n",
    "dict1 = {'a': 1, 'b': 2}\n",
    "dict2 = {'b': 3, 'c': 4}\n",
    "\n",
    "merged_dict = dictionaries(dict1, dict2)\n",
    "print(\"Merged Dictionary:\", merged_dict)\n"
   ]
  },
  {
   "cell_type": "markdown",
   "id": "216fc72d",
   "metadata": {
    "id": "216fc72d"
   },
   "source": [
    "**45-Write a Python program to get the maximum and minimum values of a dictionary values"
   ]
  },
  {
   "cell_type": "code",
   "execution_count": 48,
   "id": "d6883f5f",
   "metadata": {
    "id": "d6883f5f"
   },
   "outputs": [
    {
     "name": "stdout",
     "output_type": "stream",
     "text": [
      "Maximum Value: 20\n",
      "Minimum Value: 4\n"
     ]
    }
   ],
   "source": [
    "my_dict = {'a': 10, 'b': 4, 'c': 20, 'd': 7}\n",
    "max_value = max(my_dict.values())\n",
    "min_value = min(my_dict.values())\n",
    "print(\"Maximum Value:\", max_value)\n",
    "print(\"Minimum Value:\", min_value)"
   ]
  },
  {
   "cell_type": "markdown",
   "id": "b6a53011",
   "metadata": {
    "id": "b6a53011"
   },
   "source": [
    "**46- Write a Python program to drop empty items from a given dictionary.\n",
    "Original Dictionary:\n",
    "{'c1': 'Red', 'c2': 'Green', 'c3': None}\n",
    "New Dictionary after dropping empty items:\n",
    "{'c1': 'Red', 'c2': 'Green'}"
   ]
  },
  {
   "cell_type": "code",
   "execution_count": 106,
   "id": "b5c6fecf",
   "metadata": {
    "id": "b5c6fecf"
   },
   "outputs": [
    {
     "name": "stdout",
     "output_type": "stream",
     "text": [
      "\n",
      "Dictionary after dropping empty items:\n",
      "{'a': 10, 'd': 'Hello', 'e': 0}\n"
     ]
    }
   ],
   "source": [
    "original_dict = {'a': 10, 'b': '', 'c': None, 'd': 'Hello', 'e': 0}\n",
    "\n",
    "modified_dict = {key: value for key, value in original_dict.items() if value is not None and value != ''}\n",
    "\n",
    "print(\"\\nDictionary after dropping empty items:\")\n",
    "print(modified_dict)"
   ]
  },
  {
   "cell_type": "markdown",
   "id": "46d718c7",
   "metadata": {
    "id": "46d718c7"
   },
   "source": [
    "**47-Write a Python program to create a tuple of numbers and print one item"
   ]
  },
  {
   "cell_type": "code",
   "execution_count": 107,
   "id": "13216ff5",
   "metadata": {
    "id": "13216ff5"
   },
   "outputs": [
    {
     "name": "stdout",
     "output_type": "stream",
     "text": [
      "Item at index 2: 3\n"
     ]
    }
   ],
   "source": [
    "numbers_tuple = (1, 2, 3, 4, 5)\n",
    "\n",
    "index_to_print = 2  \n",
    "print(f\"Item at index {index_to_print}: {numbers_tuple[index_to_print]}\")\n"
   ]
  },
  {
   "cell_type": "markdown",
   "id": "2be5b56b",
   "metadata": {
    "id": "2be5b56b"
   },
   "source": [
    "**48-Write a Python program to unpack a tuple into several variables"
   ]
  },
  {
   "cell_type": "code",
   "execution_count": 90,
   "id": "595f44be",
   "metadata": {
    "id": "595f44be"
   },
   "outputs": [
    {
     "name": "stdout",
     "output_type": "stream",
     "text": [
      "Unpacked Variables:\n",
      "var1: 1\n",
      "var2: apple\n",
      "var3: 3.14\n",
      "var4: True\n"
     ]
    }
   ],
   "source": [
    "tuple_of_values = (1, 'apple', 3.14, True)\n",
    "\n",
    "# Unpack the tuple into individual variables\n",
    "var1, var2, var3, var4 = tuple_of_values\n",
    "\n",
    "# Print the unpacked variables\n",
    "print(\"Unpacked Variables:\")\n",
    "print(\"var1:\", var1)\n",
    "print(\"var2:\", var2)\n",
    "print(\"var3:\", var3)\n",
    "print(\"var4:\", var4)"
   ]
  },
  {
   "cell_type": "markdown",
   "id": "392388a7",
   "metadata": {
    "id": "392388a7"
   },
   "source": [
    "**49-Write a Python program to add an item to a tuple"
   ]
  },
  {
   "cell_type": "code",
   "execution_count": 51,
   "id": "54cc092e",
   "metadata": {
    "id": "54cc092e"
   },
   "outputs": [
    {
     "name": "stdout",
     "output_type": "stream",
     "text": [
      "New Tuple : (1, 2, 3, 4)\n"
     ]
    }
   ],
   "source": [
    "tuple = (1, 2, 3)\n",
    "num = 4\n",
    "\n",
    "new_tuple = tuple + (num,)\n",
    "print(\"New Tuple :\", new_tuple)\n"
   ]
  },
  {
   "cell_type": "markdown",
   "id": "3e8fd124",
   "metadata": {
    "id": "3e8fd124"
   },
   "source": [
    "**50-Write a Python program to convert a tuple to a string"
   ]
  },
  {
   "cell_type": "code",
   "execution_count": 52,
   "id": "92a71ddc",
   "metadata": {
    "id": "92a71ddc"
   },
   "outputs": [
    {
     "name": "stdout",
     "output_type": "stream",
     "text": [
      "123abc\n"
     ]
    }
   ],
   "source": [
    "my_tuple = (1, 2, 3, 'a', 'b', 'c')\n",
    "\n",
    "result_string = ''.join(map(str, my_tuple))\n",
    "\n",
    "print(result_string)\n"
   ]
  },
  {
   "cell_type": "markdown",
   "id": "f4f64ef4",
   "metadata": {
    "id": "f4f64ef4"
   },
   "source": [
    "**51-Write a Python program to convert a list to a tuple"
   ]
  },
  {
   "cell_type": "code",
   "execution_count": 1,
   "id": "210d56d3",
   "metadata": {
    "id": "210d56d3"
   },
   "outputs": [
    {
     "data": {
      "text/plain": [
       "(1, 2, 3, 4, 5)"
      ]
     },
     "execution_count": 1,
     "metadata": {},
     "output_type": "execute_result"
    }
   ],
   "source": [
    "num = [1, 2, 3, 4, 5]\n",
    "my_tuple = tuple(num)\n",
    "my_tuple"
   ]
  },
  {
   "cell_type": "markdown",
   "id": "b1e00ef7",
   "metadata": {
    "id": "b1e00ef7"
   },
   "source": [
    "**52-Write a Python program to reverse a tuple"
   ]
  },
  {
   "cell_type": "code",
   "execution_count": 9,
   "id": "f45bfdc7",
   "metadata": {
    "id": "f45bfdc7"
   },
   "outputs": [
    {
     "data": {
      "text/plain": [
       "(4, 3, 2, 1)"
      ]
     },
     "execution_count": 9,
     "metadata": {},
     "output_type": "execute_result"
    }
   ],
   "source": [
    "tuple = (1, 2, 3, 4)\n",
    "\n",
    "rev_tuple = tuple[::-1]\n",
    "rev_tuple"
   ]
  },
  {
   "cell_type": "markdown",
   "id": "3cd347d1",
   "metadata": {
    "id": "3cd347d1"
   },
   "source": [
    "**53-Write a Python program to replace the last value of tuples in a list.\n",
    "Sample list: [(10, 20, 40), (40, 50, 60), (70, 80, 90)]\n",
    "Expected Output: [(10, 20, 100), (40, 50, 100), (70, 80, 100)]"
   ]
  },
  {
   "cell_type": "code",
   "execution_count": 88,
   "id": "3c4a2a4c",
   "metadata": {
    "id": "3c4a2a4c"
   },
   "outputs": [
    {
     "name": "stdout",
     "output_type": "stream",
     "text": [
      "[(10, 20, 100), (40, 50, 100), (70, 80, 100)]\n"
     ]
    }
   ],
   "source": [
    "l = [(10, 20, 40), (40, 50, 60), (70, 80, 90)]\n",
    "print([t[:-1] + (100,) for t in l])"
   ]
  },
  {
   "cell_type": "markdown",
   "id": "76bb7b39",
   "metadata": {
    "id": "76bb7b39"
   },
   "source": [
    "**54-Write a Python program to convert a given string list to a tuple\n",
    "Original string: python 3.0\n",
    "<class 'str'>\n",
    "Convert the said string to a tuple:\n",
    "('p', 'y', 't', 'h', 'o', 'n', '3', '.', '0')"
   ]
  },
  {
   "cell_type": "code",
   "execution_count": 108,
   "id": "51951937",
   "metadata": {
    "id": "51951937"
   },
   "outputs": [
    {
     "name": "stdout",
     "output_type": "stream",
     "text": [
      "python3.0\n"
     ]
    }
   ],
   "source": [
    "my_tuple = ('p', 'y', 't', 'h', 'o', 'n', '3', '.', '0')\n",
    "\n",
    "result_string = ''.join(map(str, my_tuple))\n",
    "\n",
    "print(result_string)"
   ]
  },
  {
   "cell_type": "markdown",
   "id": "5a1d5d97",
   "metadata": {
    "id": "5a1d5d97"
   },
   "source": [
    "**55-Write a Python program to calculate the average value of the numbers in a given tuple of tuples"
   ]
  },
  {
   "cell_type": "code",
   "execution_count": 109,
   "id": "834e7992",
   "metadata": {
    "id": "834e7992"
   },
   "outputs": [
    {
     "name": "stdout",
     "output_type": "stream",
     "text": [
      "The mean of tuple list is : 13.666666666666666\n"
     ]
    }
   ],
   "source": [
    "test_list = [(1, 4, 5), (7, 8), (2, 4, 10)]\n",
    "sum = 0\n",
    "for sub in test_list:\n",
    "    for i in sub:\n",
    "        sum = sum + i\n",
    "res = sum / len(test_list)\n",
    "print(str(res))"
   ]
  },
  {
   "cell_type": "markdown",
   "id": "51edab9c",
   "metadata": {
    "id": "51edab9c"
   },
   "source": [
    "**56-Write a Python program to add member(s) to a set."
   ]
  },
  {
   "cell_type": "code",
   "execution_count": 53,
   "id": "2b65df79",
   "metadata": {
    "id": "2b65df79"
   },
   "outputs": [
    {
     "name": "stdout",
     "output_type": "stream",
     "text": [
      "{1, 2, 3, 4, 5, 6, 7}\n"
     ]
    }
   ],
   "source": [
    "\n",
    "my_set = {1, 2, 3}\n",
    "\n",
    "my_set.add(4)    #add for 1 \n",
    "\n",
    "my_set.update([5, 6, 7])  # update for multi\n",
    "\n",
    "print(my_set)\n"
   ]
  },
  {
   "cell_type": "markdown",
   "id": "965590cc",
   "metadata": {
    "id": "965590cc"
   },
   "source": [
    "**57-Write a Python program to remove an item from a set if it is present in the set."
   ]
  },
  {
   "cell_type": "code",
   "execution_count": 84,
   "id": "866bab28",
   "metadata": {
    "id": "866bab28"
   },
   "outputs": [
    {
     "name": "stdout",
     "output_type": "stream",
     "text": [
      "{'ali', 'heidy'}\n"
     ]
    }
   ],
   "source": [
    "setx = {\"ahmed\", \"ali\", \"heidy\"}\n",
    "\n",
    "setx.remove(\"ahmed\")\n",
    "\n",
    "print(setx)"
   ]
  },
  {
   "cell_type": "markdown",
   "id": "2b7cfed1",
   "metadata": {
    "id": "2b7cfed1"
   },
   "source": [
    "**58-Write a Python program to create an intersection,union,difference and symmetric difference of sets"
   ]
  },
  {
   "cell_type": "code",
   "execution_count": 83,
   "id": "7f94b7fe",
   "metadata": {
    "id": "7f94b7fe"
   },
   "outputs": [
    {
     "name": "stdout",
     "output_type": "stream",
     "text": [
      "{0, 1, 2, 3, 4, 5, 6, 8}\n",
      "{2, 4}\n",
      "{0, 8, 6}\n",
      "{0, 1, 3, 5, 6, 8}\n"
     ]
    }
   ],
   "source": [
    "A = {0, 2, 4, 6, 8};\n",
    "B = {1, 2, 3, 4, 5};\n",
    "print( A | B)\n",
    "print( A & B)\n",
    "print( A - B)\n",
    "print( A ^ B)"
   ]
  },
  {
   "cell_type": "markdown",
   "id": "b94931e2",
   "metadata": {
    "id": "b94931e2"
   },
   "source": [
    "**59-Write a Python program to find the maximum and minimum values in a set"
   ]
  },
  {
   "cell_type": "code",
   "execution_count": 1,
   "id": "203f9600",
   "metadata": {
    "id": "203f9600"
   },
   "outputs": [
    {
     "name": "stdout",
     "output_type": "stream",
     "text": [
      "9\n",
      "1\n"
     ]
    }
   ],
   "source": [
    "seto = {8, 2, 8, 6, 5, 9, 1, 4, 3, 3, 6}\n",
    "\n",
    "max_value = max( seto )\n",
    "min_value = min( seto )\n",
    "\n",
    "print(max_value )\n",
    "print(min_value )\n"
   ]
  },
  {
   "cell_type": "markdown",
   "id": "255fd554",
   "metadata": {
    "id": "255fd554"
   },
   "source": [
    "**60- Write a Python program that finds all pairs of elements in a list whose sum is equal to a given value."
   ]
  },
  {
   "cell_type": "code",
   "execution_count": 110,
   "id": "c2d94e1f",
   "metadata": {
    "id": "c2d94e1f"
   },
   "outputs": [
    {
     "name": "stdout",
     "output_type": "stream",
     "text": [
      "[(5, 7), (3, 9)]\n"
     ]
    }
   ],
   "source": [
    "def findPairs(lst, K):\n",
    "    res = []\n",
    "    while lst:\n",
    "        num = lst.pop()\n",
    "        diff = K - num\n",
    "        if diff in lst:\n",
    "            res.append((diff, num))\n",
    "            res.reverse()\n",
    "    return res\n",
    "lst = [1, 5, 3, 7, 9]\n",
    "K = 12\n",
    "print(findPairs(lst, K))"
   ]
  },
  {
   "cell_type": "code",
   "execution_count": null,
   "id": "138e1516",
   "metadata": {},
   "outputs": [],
   "source": []
  }
 ],
 "metadata": {
  "colab": {
   "provenance": []
  },
  "kernelspec": {
   "display_name": "Python 3 (ipykernel)",
   "language": "python",
   "name": "python3"
  },
  "language_info": {
   "codemirror_mode": {
    "name": "ipython",
    "version": 3
   },
   "file_extension": ".py",
   "mimetype": "text/x-python",
   "name": "python",
   "nbconvert_exporter": "python",
   "pygments_lexer": "ipython3",
   "version": "3.11.5"
  }
 },
 "nbformat": 4,
 "nbformat_minor": 5
}
